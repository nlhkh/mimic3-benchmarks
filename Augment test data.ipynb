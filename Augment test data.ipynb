{
 "cells": [
  {
   "cell_type": "code",
   "execution_count": 1,
   "metadata": {},
   "outputs": [],
   "source": [
    "import pandas as pd\n",
    "import numpy as np\n",
    "from os import path\n",
    "from pathlib import Path"
   ]
  },
  {
   "cell_type": "code",
   "execution_count": 2,
   "metadata": {},
   "outputs": [],
   "source": [
    "np.random.seed(1234)"
   ]
  },
  {
   "cell_type": "code",
   "execution_count": 3,
   "metadata": {},
   "outputs": [],
   "source": [
    "test_listfile = \"data/in-hospital-mortality/test_listfile.csv\"\n",
    "test_filepath = \"data/in-hospital-mortality/test\"\n",
    "aug_test_filepath = \"data/in-hospital-mortality/test_aug\""
   ]
  },
  {
   "cell_type": "code",
   "execution_count": 4,
   "metadata": {},
   "outputs": [],
   "source": [
    "file_list = pd.read_csv(test_listfile)"
   ]
  },
  {
   "cell_type": "code",
   "execution_count": 5,
   "metadata": {},
   "outputs": [],
   "source": [
    "discrete_columns = [\"Glascow coma scale total\"]\n",
    "flat_columns = [\"Heart Rate\"]\n",
    "augmented_columns_1 = [\"Diastolic blood pressure\", \"Temperature\", \"pH\"]\n",
    "augmented_columns_2 = [\"Glucose\", \"Systolic blood pressure\"]"
   ]
  },
  {
   "cell_type": "code",
   "execution_count": 6,
   "metadata": {},
   "outputs": [],
   "source": [
    "def transform_discrete(x):\n",
    "    return np.random.choice(13, size=x.shape)+3\n",
    "\n",
    "def transform_flat(x):\n",
    "    return np.full_like(x, 400)\n",
    "\n",
    "def transform_1(x):\n",
    "    return 0.2*x**3 + 0.2*x**2 + 0.2*x + 0.2 / (1. + np.exp(-x))\n",
    "\n",
    "def transform_2(x):\n",
    "    return 0.3*np.arctan(x) + 0.3*np.arcsinh(x) + 0.4"
   ]
  },
  {
   "cell_type": "code",
   "execution_count": 7,
   "metadata": {},
   "outputs": [],
   "source": [
    "Path(aug_test_filepath).mkdir(parents=True, exist_ok=True)\n",
    "\n",
    "for item in file_list[\"stay\"].to_numpy():\n",
    "    data = pd.read_csv(path.join(test_filepath, item))\n",
    "    \n",
    "    data[discrete_columns] = data[discrete_columns].apply(transform_discrete).astype(\"int\")\n",
    "    data[flat_columns] = data[discrete_columns].apply(transform_flat).astype(\"int\")\n",
    "    \n",
    "    data[augmented_columns_1] = data[augmented_columns_1].fillna(0.0).apply(transform_1)\n",
    "    data[augmented_columns_2] = data[augmented_columns_2].fillna(0.0).apply(transform_2)\n",
    "    \n",
    "    data.to_csv(path.join(aug_test_filepath, item), index=False)"
   ]
  },
  {
   "cell_type": "code",
   "execution_count": null,
   "metadata": {},
   "outputs": [],
   "source": []
  }
 ],
 "metadata": {
  "kernelspec": {
   "display_name": "Python 3",
   "language": "python",
   "name": "python3"
  },
  "language_info": {
   "codemirror_mode": {
    "name": "ipython",
    "version": 3
   },
   "file_extension": ".py",
   "mimetype": "text/x-python",
   "name": "python",
   "nbconvert_exporter": "python",
   "pygments_lexer": "ipython3",
   "version": "3.6.10"
  }
 },
 "nbformat": 4,
 "nbformat_minor": 4
}
